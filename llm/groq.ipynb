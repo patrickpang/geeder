{
 "cells": [
  {
   "cell_type": "code",
   "execution_count": 1,
   "metadata": {},
   "outputs": [],
   "source": [
    "%load_ext dotenv\n",
    "%dotenv"
   ]
  },
  {
   "cell_type": "code",
   "execution_count": 2,
   "metadata": {},
   "outputs": [],
   "source": [
    "from groq import AsyncGroq\n",
    "\n",
    "client = AsyncGroq()"
   ]
  },
  {
   "cell_type": "code",
   "execution_count": 16,
   "metadata": {},
   "outputs": [],
   "source": [
    "prompt = \"Create multiple Anki cards from below text. Return front and back on separate lines.\""
   ]
  },
  {
   "cell_type": "code",
   "execution_count": 4,
   "metadata": {},
   "outputs": [],
   "source": [
    "extract = \"\"\"\n",
    "1A.6 years of life lost\n",
    "One way to measure the impact of a health problem is to estimate how many years people might have lived had their lives not been cur- tailed by it. For example, deaths from road traf- fic collisions affect mostly young males who would otherwise have been expected to live into their 70s or 80s.\n",
    "Years of life lost (YLL) is a measure of prema- ture mortality and, as such, it explicitly places more importance on deaths that occur in young people than those in older people. YLL is there- fore a value-laden statistic, which reflects the gen- eral wish of society to prevent avoidable causes of death in younger people and to avoid the loss to society of its investment in raising children and in supporting young adults.\n",
    "To calculate YLL in its most simple form, an upper age limit (e.g. 75) is chosen. A person who dies at the age of 60 contributes 15 YLL (75 − 60 = 15) to the calculation, and a person who dies at age 15 contributes 60 YLL. Deaths occurring in peo- ple aged over 75 are not included in the calcula- tion. Infant deaths may or may not be included.\n",
    "For example, the total YLL in a population may be calculated as\n",
    "∑(Deaths at each age 1 year ×74) +(Deaths age 2 years×73)\n",
    "+...+(Deathsage74 years×1)\n",
    "In more complex calculations, an actuarial assessment is undertaken of the expectation of life for each person, where life expectancy is cal- culated using current life tables and age-specific mortality rates are applied to a hypothetical population (see Section 3B.6).\n",
    "Note that YLL will underestimate the burden of disease due to chronic conditions, which typi- cally have a low mortality in young people. To account for this phenomenon, health-adjusted life expectancy (HALE) may be used instead of the crude life expectancy, where\n",
    "HALE =∑(Number of life years lived in each age group)\n",
    "×(Mean health statescorefor that age group)\n",
    "\"\"\""
   ]
  },
  {
   "cell_type": "code",
   "execution_count": 17,
   "metadata": {},
   "outputs": [
    {
     "name": "stdout",
     "output_type": "stream",
     "text": [
      "Here are the Anki cards generated from the text:\n",
      "\n",
      "**Card 1**\n",
      "Front: What is a way to measure the impact of a health problem?\n",
      "Back: Estimating how many years people might have lived had their lives not been cut short by it (Years of Life Lost).\n",
      "\n",
      "**Card 2**\n",
      "Front: What does Years of Life Lost (YLL) measure?\n",
      "Back: Premature mortality, placing more importance on deaths in young people than older people.\n",
      "\n",
      "**Card 3**\n",
      "Front: Why is YLL a value-laden statistic?\n",
      "Back: It reflects society's wish to prevent avoidable causes of death in younger people and avoid loss of investment in raising children and supporting young adults.\n",
      "\n",
      "**Card 4**\n",
      "Front: How is YLL calculated in its simplest form?\n",
      "Back: Choose an upper age limit (e.g., 75), and calculate the difference between the upper age limit and the age of death (e.g., 75 - 60 = 15 YLL).\n",
      "\n",
      "**Card 5**\n",
      "Front: Why might YLL underestimate the burden of disease?\n",
      "Back: Because chronic conditions have low mortality in young people; health-adjusted life expectancy (HALE) may be used instead.\n",
      "\n",
      "**Card 6**\n",
      "Front: What is HALE?\n",
      "Back: Health-Adjusted Life Expectancy, calculated as ∑(Number of life years lived in each age group) × (Mean health state score for that age group).None"
     ]
    }
   ],
   "source": [
    "stream = await client.chat.completions.create(\n",
    "    messages=[\n",
    "        {\n",
    "            \"role\": \"system\",\n",
    "            \"content\": prompt,\n",
    "        },\n",
    "        {\n",
    "            \"role\": \"user\",\n",
    "            \"content\": extract,\n",
    "        },\n",
    "    ],\n",
    "    model=\"llama3-70b-8192\",\n",
    "    stream=True,\n",
    ")\n",
    "async for chunk in stream:\n",
    "    print(chunk.choices[0].delta.content, end=\"\")"
   ]
  }
 ],
 "metadata": {
  "kernelspec": {
   "display_name": "Python 3",
   "language": "python",
   "name": "python3"
  },
  "language_info": {
   "codemirror_mode": {
    "name": "ipython",
    "version": 3
   },
   "file_extension": ".py",
   "mimetype": "text/x-python",
   "name": "python",
   "nbconvert_exporter": "python",
   "pygments_lexer": "ipython3",
   "version": "3.12.3"
  }
 },
 "nbformat": 4,
 "nbformat_minor": 2
}
