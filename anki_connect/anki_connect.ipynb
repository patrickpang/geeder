{
 "cells": [
  {
   "cell_type": "code",
   "execution_count": 1,
   "metadata": {},
   "outputs": [],
   "source": [
    "from aiohttp import ClientSession\n",
    "from typing import Any"
   ]
  },
  {
   "cell_type": "code",
   "execution_count": 2,
   "metadata": {},
   "outputs": [],
   "source": [
    "import structlog\n",
    "log = structlog.get_logger()"
   ]
  },
  {
   "cell_type": "code",
   "execution_count": 3,
   "metadata": {},
   "outputs": [],
   "source": [
    "api_url = 'http://host.docker.internal:8765' # TODO: change for localhost when running outside Docker\n",
    "\n",
    "async def anki_connect_health_check(session: ClientSession) -> bool:\n",
    "  response = await session.get(api_url, raise_for_status=True)\n",
    "  await response.text()\n",
    "  return True\n",
    "\n",
    "async def anki_connect_call(session: ClientSession, action: str, **kwargs) -> Any:\n",
    "  payload = {\n",
    "    \"action\": action,\n",
    "    \"params\": kwargs,\n",
    "    \"version\": 6,\n",
    "  }\n",
    "  log.info(\"anki_connect_call\", action=action, params=kwargs)\n",
    "\n",
    "  response = await session.post(api_url, json=payload)\n",
    "  data = await response.json()\n",
    "  if data[\"error\"]:\n",
    "    raise RuntimeError(data[\"error\"])\n",
    "  \n",
    "  return data[\"result\"]"
   ]
  },
  {
   "cell_type": "code",
   "execution_count": 4,
   "metadata": {},
   "outputs": [
    {
     "name": "stdout",
     "output_type": "stream",
     "text": [
      "\u001b[2m2024-05-01 03:24:29\u001b[0m [\u001b[32m\u001b[1minfo     \u001b[0m] \u001b[1manki_connect_health_check     \u001b[0m \u001b[36msuccess\u001b[0m=\u001b[35mTrue\u001b[0m\n"
     ]
    }
   ],
   "source": [
    "async with ClientSession(raise_for_status=True) as session:\n",
    "  await anki_connect_health_check(session)\n",
    "  log.info(\"anki_connect_health_check\", success=True)"
   ]
  },
  {
   "cell_type": "code",
   "execution_count": 5,
   "metadata": {},
   "outputs": [
    {
     "name": "stdout",
     "output_type": "stream",
     "text": [
      "\u001b[2m2024-05-01 03:24:29\u001b[0m [\u001b[32m\u001b[1minfo     \u001b[0m] \u001b[1manki_connect_call             \u001b[0m \u001b[36maction\u001b[0m=\u001b[35mdeckNames\u001b[0m \u001b[36mparams\u001b[0m=\u001b[35m{}\u001b[0m\n"
     ]
    },
    {
     "data": {
      "text/plain": [
       "['Default', 'Designing Data Intensive Applications']"
      ]
     },
     "execution_count": 5,
     "metadata": {},
     "output_type": "execute_result"
    }
   ],
   "source": [
    "async with ClientSession(raise_for_status=True) as session:\n",
    "  deck_names = await anki_connect_call(session, 'deckNames')\n",
    "\n",
    "deck_names"
   ]
  },
  {
   "cell_type": "code",
   "execution_count": 6,
   "metadata": {},
   "outputs": [],
   "source": [
    "geeder_tag = 'geeder'"
   ]
  },
  {
   "cell_type": "code",
   "execution_count": 7,
   "metadata": {},
   "outputs": [
    {
     "name": "stdout",
     "output_type": "stream",
     "text": [
      "\u001b[2m2024-05-01 03:24:29\u001b[0m [\u001b[32m\u001b[1minfo     \u001b[0m] \u001b[1manki_connect_call             \u001b[0m \u001b[36maction\u001b[0m=\u001b[35mfindNotes\u001b[0m \u001b[36mparams\u001b[0m=\u001b[35m{'query': 'deck:\"Designing Data Intensive Applications\" tag:geeder'}\u001b[0m\n"
     ]
    },
    {
     "data": {
      "text/plain": [
       "[1714286765561, 1714286891339]"
      ]
     },
     "execution_count": 7,
     "metadata": {},
     "output_type": "execute_result"
    }
   ],
   "source": [
    "deck_name = 'Designing Data Intensive Applications'\n",
    "\n",
    "async with ClientSession(raise_for_status=True) as session:\n",
    "  note_ids = await anki_connect_call(session, 'findNotes', query=f'deck:\"{deck_name}\" tag:{geeder_tag}')\n",
    "\n",
    "note_ids"
   ]
  },
  {
   "cell_type": "code",
   "execution_count": 8,
   "metadata": {},
   "outputs": [
    {
     "name": "stdout",
     "output_type": "stream",
     "text": [
      "\u001b[2m2024-05-01 03:24:30\u001b[0m [\u001b[32m\u001b[1minfo     \u001b[0m] \u001b[1manki_connect_call             \u001b[0m \u001b[36maction\u001b[0m=\u001b[35mnotesInfo\u001b[0m \u001b[36mparams\u001b[0m=\u001b[35m{'notes': [1714286765561, 1714286891339]}\u001b[0m\n"
     ]
    },
    {
     "data": {
      "text/plain": [
       "[{'noteId': 1714286765561,\n",
       "  'tags': ['geeder'],\n",
       "  'fields': {'Front': {'value': 'What is head-of-line blocking?', 'order': 0},\n",
       "   'Back': {'value': '<div><div><div><div><div><div><div><div>Head-of-line (HOL) blocking occurs when a single slow or blocked transaction or connection in a queue prevents all subsequent transactions or connections from being processed or transmitted, thereby degrading the overall performance of the system or network.</div></div></div></div></div></div></div></div>',\n",
       "    'order': 1}},\n",
       "  'modelName': 'Basic',\n",
       "  'cards': [1714286765561]},\n",
       " {'noteId': 1714286891339,\n",
       "  'tags': ['geeder'],\n",
       "  'fields': {'Front': {'value': 'What is tail latency&nbsp;amplification?',\n",
       "    'order': 0},\n",
       "   'Back': {'value': '<div><div><div><div><div><div><div><div>Tail latency amplification occurs when a high-latency event or outlier in one component of a distributed system propagates and significantly amplifies the overall response time for the entire system.</div></div></div></div></div></div></div></div>',\n",
       "    'order': 1}},\n",
       "  'modelName': 'Basic',\n",
       "  'cards': [1714286891339]}]"
      ]
     },
     "execution_count": 8,
     "metadata": {},
     "output_type": "execute_result"
    }
   ],
   "source": [
    "async with ClientSession(raise_for_status=True) as session:\n",
    "  notes = await anki_connect_call(session, 'notesInfo', notes=note_ids)\n",
    "\n",
    "notes"
   ]
  }
 ],
 "metadata": {
  "kernelspec": {
   "display_name": "Python 3",
   "language": "python",
   "name": "python3"
  },
  "language_info": {
   "codemirror_mode": {
    "name": "ipython",
    "version": 3
   },
   "file_extension": ".py",
   "mimetype": "text/x-python",
   "name": "python",
   "nbconvert_exporter": "python",
   "pygments_lexer": "ipython3",
   "version": "3.12.3"
  }
 },
 "nbformat": 4,
 "nbformat_minor": 2
}
